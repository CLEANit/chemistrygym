{
 "cells": [
  {
   "cell_type": "markdown",
   "metadata": {},
   "source": [
    "## Vessel: Lesson\n",
    "\n",
    "### Overview:\n",
    "\n",
    "In this lesson, we will be going through a class that is vital to the operation of all of our benches, the vessel class.\n",
    "The source code for this can be found here: `chemistrylab/chem_algorithms/vessel.py`. The vessel calss as it is named is\n",
    "meant to simulate the use of any given you might find in a chemistry lad, such as a beaker or an extraction vessel.\n",
    "Here we will be going through the important concepts, functions and attributes that make up the vessel class so that you\n",
    "can easily use it when designing your own reactions.\n",
    "\n",
    "If you want a more detailed look into each function of the vessel I suggest you go to our [documentation]() on the data\n",
    "structure. \n",
    "\n",
    "Important Variables |Structure | Description\n",
    "---|---|---\n",
    "_material_dict|{'material.name': [material(), amount], ...}|a dictionary holding all the material inside this vessel\n",
    "_solute_dict|{'solute.name': {solvent.name: amount, ...}, ...}|dictionary that represents the solution\n",
    "_event_dict|{'function name': function}|a dictionary holds the event functions of a vessel\n",
    "_event_queue|[['event', parameters], ['event', parameters] ... ]|a queue of events to be performed by vessel\n",
    "_feedback_queue|[['event', parameters], ['event', parameters] ... ]|a queue holding collected feedback from materials and unfinished events\n",
    "\n",
    "#### An example of _material_dict and _solute_dict\n",
    "(vessel with Na and Cl dissolved in H2O and C6H14)"
   ]
  },
  {
   "cell_type": "code",
   "execution_count": 2,
   "metadata": {},
   "outputs": [],
   "source": [
    "import sys\n",
    "sys.path.append('../')\n",
    "sys.path.append('../chemistrylab/reactions')\n",
    "import gym\n",
    "import chemistrylab\n",
    "import numpy as np\n",
    "from gym import envs\n",
    "from chemistrylab.chem_algorithms import material, vessel\n",
    "H2O = material.H2O()\n",
    "C6H14 = material.C6H14()\n",
    "Na = material.Na()\n",
    "Cl = material.Cl()\n",
    "\n",
    "Na.set_charge(1.0)\n",
    "Na.set_solute_flag(True)\n",
    "Cl.set_charge(-1.0)\n",
    "Cl.set_solute_flag(True)\n",
    "\n",
    "material_dict = {'H2O': [H2O, 100], 'C6H14': [C6H14, 100], 'Na': [Na, 1.0], 'Cl': [Cl, 1.0]}\n",
    "solute_dict = {'Na': {'H2O': 0.5, 'C6H14': 0.5}, 'Cl': {'H2O': 0.5, 'C6H14': 0.5}}"
   ]
  },
  {
   "cell_type": "markdown",
   "metadata": {},
   "source": [
    "\n",
    "Important functions | Description\n",
    "---|---\n",
    "push_event_to_queue()|used to pass event into the vessel\n",
    "_update_materials()|automatically called by push_event_to_queue(), execute events in _event_queue and _feedback_queue\n",
    "_merge_event_queue()|merge the feedback_queue passed in, and all the default events (switches) are appended to _feedback_queue by this function\n",
    "\n",
    "#### Event Functions\n",
    "Function Name|Description\n",
    "---|---\n",
    "'pour by volume'|Pour from self vessel to target vessel by certain volume\n",
    "'drain by pixel|Drain from self vessel to target vessel by certain pixel\n",
    "'fully mix'|Shake self vessel to fully mix\n",
    "'update material dict'|Use input to update self vessel's material_dict\n",
    "'update solute dict'|Use input to update self vessel's solute_dict\n",
    "'mix'|Shake vessel of let vessel settle\n",
    "'update_layer'|Update self vessel's layer representation\n",
    "\n"
   ]
  },
  {
   "cell_type": "code",
   "execution_count": 4,
   "metadata": {},
   "outputs": [],
   "source": [
    "vessel_1 = vessel.Vessel(label='vessel_1')\n",
    "vessel_2 = vessel.Vessel(label='vessel_2')\n",
    "\n",
    "event_1 = ['update material dict', material_dict]\n",
    "event_2 = ['update solute dict', solute_dict]\n",
    "event_3 = ['pour by volume', vessel_2, 100]\n",
    "event_4 = ['fully mix']\n",
    "\n",
    "vessel_1.push_event_to_queue(events=None, feedback=[event_1, event_2, event_3, event_4], dt=1)\n",
    "vessel_2.push_event_to_queue(events=None, feedback=[event_4], dt=0)"
   ]
  },
  {
   "cell_type": "markdown",
   "metadata": {},
   "source": [
    "#### The Workflow\n",
    "  \n",
    "  1. Agent choose action from the action space of an environment.\n",
    "  2. The environment does the calculation and update and generate events.\n",
    "  3. At the end of each action, if the action affect a vessel, use push_event_to_queue() to push the event into the vessel, if no event generated, call the function with events=None.\n",
    "  4. With push_event_to_queue() called, events are pushed into the vessel.\n",
    "  5. _update_materials is automatically called and perform events in the events_queue.\n",
    "  6. Each event has a corresponding event function, it first update properties of the vessel, then loop over the materials inside the vessel by calling the corresponding event functions of each material.\n",
    "  7. The materials' event function will return feedback by calling the push_event_to_queue(), which contains feedback and unfinished event \n",
    "  8. The returned feedback is added to the _feedback_queue\n",
    "  9. The the _merge_event_queue() is called on _feedback_queue, which merge the events in the feedback_queue to generate a merged_queue and add default event into it, then empty the _feedback_queue\n",
    "  10. Then the merged_queue will be executed and new feedback are collected and added to _feedback_queue, which will be executed with the next action. \n",
    "\n"
   ]
  }
 ],
 "metadata": {
  "kernelspec": {
   "display_name": "Python 3",
   "language": "python",
   "name": "python3"
  },
  "language_info": {
   "codemirror_mode": {
    "name": "ipython",
    "version": 3
   },
   "file_extension": ".py",
   "mimetype": "text/x-python",
   "name": "python",
   "nbconvert_exporter": "python",
   "pygments_lexer": "ipython3",
   "version": "3.8.5"
  }
 },
 "nbformat": 4,
 "nbformat_minor": 4
}