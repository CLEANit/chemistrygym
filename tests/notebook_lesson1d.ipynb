{
 "cells": [
  {
   "cell_type": "markdown",
   "metadata": {},
   "source": [
    "# Distillation Bench: Lesson 1\n",
    "\n",
    "This lesson will be taking you through how the distillation bench environment works and hopefully allow you to famialiarize yourself with the different actions in the environment.\n",
    "\n",
    "The distillation bench environment simulates a distillation experiment. The agent will have the ability to perform multiple different actions that will maximize the yield of a certain desired material. \n",
    "\n",
    "In order to use the distillation bench environment we should first perform experiments with the reaction bench and extraction bench, from which we can use the pickle files produced from these experiments for the distillation environment.\n",
    "\n",
    "In this lesson we will be using the `test_extract_vessel.pickle` file to perform basic actions.\n",
    "\n",
    "Follow this lesson along with the markdown file: `lesson_1_distillation.md`to gain a better understanding of how distillation bench works!"
   ]
  },
  {
   "cell_type": "code",
   "execution_count": 1,
   "metadata": {},
   "outputs": [],
   "source": [
    "%matplotlib inline"
   ]
  },
  {
   "cell_type": "code",
   "execution_count": 2,
   "metadata": {},
   "outputs": [],
   "source": [
    "# import all the required external modules\n",
    "import gym\n",
    "import numpy as np\n",
    "import os\n",
    "import pickle\n",
    "import sys\n",
    "from time import sleep\n",
    "from gym import envs\n",
    "import matplotlib.pyplot as plt\n",
    "import pandas as pd"
   ]
  },
  {
   "cell_type": "code",
   "execution_count": 3,
   "metadata": {},
   "outputs": [],
   "source": [
    "# ensure all necessary modules can be found\n",
    "sys.path.append('../')\n",
    "sys.path.append(\"../chemistrylab/reactions\") # to access all reactions"
   ]
  },
  {
   "cell_type": "code",
   "execution_count": 4,
   "metadata": {},
   "outputs": [],
   "source": [
    "# import all local modules\n",
    "import chemistrylab"
   ]
  },
  {
   "cell_type": "markdown",
   "metadata": {},
   "source": [
    "Here we can see all the possible variations of the distillation bench which can vary depending on input vessel (this case the `test_extract_vessel.pickle` which is loaded into the boil vessel, as well as the target material. In this and following tutorials our target material will be dodecane"
   ]
  },
  {
   "cell_type": "code",
   "execution_count": 5,
   "metadata": {},
   "outputs": [
    {
     "name": "stdout",
     "output_type": "stream",
     "text": [
      "['Distillation-v0']\n"
     ]
    }
   ],
   "source": [
    "# show all environments for distillation bench\n",
    "all_envs = envs.registry.all()\n",
    "env_ids = [env_spec.id for env_spec in all_envs if 'Distillation' in env_spec.id]\n",
    "print(env_ids)"
   ]
  },
  {
   "cell_type": "markdown",
   "metadata": {},
   "source": [
    "Here we are simply loading up our environment. If you have experience with other gym environments you should be somewhat familiar with these initializing actions, however if you are not, don't worry, the documentation can be found [here](https://gym.openai.com/docs/)."
   ]
  },
  {
   "cell_type": "code",
   "execution_count": 6,
   "metadata": {},
   "outputs": [
    {
     "name": "stdout",
     "output_type": "stream",
     "text": [
      "Enter a number to choose which environment you want to run (0 - 0): \n",
      "0\n"
     ]
    }
   ],
   "source": [
    "# allows user to pick which environment they want to use\n",
    "# initializes environment\n",
    "select_env = int(input(f\"Enter a number to choose which environment you want to run (0 - {len(env_ids) - 1}): \\n\"))\n",
    "env = gym.make(env_ids[select_env])\n",
    "render_mode = \"human\" #select how graphs are rendered"
   ]
  },
  {
   "cell_type": "markdown",
   "metadata": {},
   "source": [
    "Here we initialize done to False so our agent can run the experiment. We run reset() to return an initial observation."
   ]
  },
  {
   "cell_type": "code",
   "execution_count": 7,
   "metadata": {},
   "outputs": [
    {
     "name": "stdout",
     "output_type": "stream",
     "text": [
      "\n",
      "\n"
     ]
    }
   ],
   "source": [
    "done = False\n",
    "__ = env.reset()\n",
    "print('\\n')"
   ]
  },
  {
   "cell_type": "markdown",
   "metadata": {},
   "source": [
    "Here we have the different possible actions that we can take with the environment. The **action_set is an array labeled correspondingly to the action we want to perform.**\n",
    "\n",
    "The action_space is a multidiscrete action space of shape [6 10].\n",
    "\n",
    "**The first index allows us to choose from the action set. The second index allows us to pick a multiplier that will affect the action variably depending on our chosen multiplier.**\n",
    "\n",
    "For example, the following pair of numbers will add a great amount of heat compared to a multiplier of 6. \n",
    "\n",
    "Action: 0\n",
    "\n",
    "Action Multiplier: 10"
   ]
  },
  {
   "cell_type": "code",
   "execution_count": 8,
   "metadata": {},
   "outputs": [],
   "source": [
    "# shows # of actions available\n",
    "# for distillation bench there are two elements\n",
    "# action[0] is a number indicating the event to take place\n",
    "# action[1] is a number representing a multiplier for the event\n",
    "# Actions and multipliers include:\n",
    "#   0: Add/Remove Heat (Heat Value multiplier, relative of maximal heat change)\n",
    "#   1: Pour BV into B1 (Volume multiplier, relative to max_vessel_volume)\n",
    "#   2: Pour B1 into B2 (Volume multiplier, relative to max_vessel_volume)\n",
    "#   3: Pour B1 into BV (Volume multiplier, relative to max_vessel_volume)\n",
    "#   4: Pour B2 into BV (Volume multiplier, relative to max_vessel_volume)\n",
    "#   5: Done (Value doesn't matter)\n",
    "\n",
    "action_set = ['Add/Remove Heat', 'Pour BV into B1', 'Pour B1 into B2', 'Pour B1 into BV', 'Pour B2 into BV', 'Done']\n",
    "assert env.action_space.shape[0] == 2\n",
    "\n",
    "total_steps=0\n",
    "total_reward=0\n",
    "\n",
    "temp = []\n",
    "steps_over_time = []"
   ]
  },
  {
   "cell_type": "markdown",
   "metadata": {},
   "source": [
    "The following code simply allows us to manually pick the actions and multiplier we want for each step. Please follow the `lesson_1_distillation.md` as we really go through each action in detail there, and see how the graphs changes, and how the experiment is impacted."
   ]
  },
  {
   "cell_type": "code",
   "execution_count": null,
   "metadata": {},
   "outputs": [
    {
     "name": "stdout",
     "output_type": "stream",
     "text": [
      "0: Add/Remove Heat\n",
      "1: Pour BV into B1\n",
      "2: Pour B1 into B2\n",
      "3: Pour B1 into BV\n",
      "4: Pour B2 into BV\n",
      "5: Done\n",
      "Please enter an action and an action multiplier\n"
     ]
    }
   ],
   "source": [
    "while not done:\n",
    "\n",
    "    action = np.zeros(env.action_space.shape[0])\n",
    "\n",
    "    for index, action_desc in enumerate(action_set):\n",
    "        print(f'{index}: {action_desc}')\n",
    "    print('Please enter an action and an action multiplier')\n",
    "    for i in range(2):\n",
    "        message = 'Action'\n",
    "        if i == 1:\n",
    "            message = 'Action Multiplier:'\n",
    "        action[i] = int(input(f'{message}: '))\n",
    "\n",
    "\n",
    "    # perform the action and update the reward\n",
    "    state, reward, done, __ = env.step(action)\n",
    "    print('-----------------------------------------')\n",
    "    print('total_steps: ', total_steps)\n",
    "    print('reward: %.2f ' % reward)\n",
    "    total_reward += reward\n",
    "    print('total reward: %.2f ' % total_reward)\n",
    "    print('Temperature of boiling vessel: %.1f ' % env.boil_vessel.temperature, ' K \\n')\n",
    "    # print(state)"
   ]
  }
 ],
 "metadata": {
  "kernelspec": {
   "display_name": "Python 3",
   "language": "python",
   "name": "python3"
  },
  "language_info": {
   "codemirror_mode": {
    "name": "ipython",
    "version": 3
   },
   "file_extension": ".py",
   "mimetype": "text/x-python",
   "name": "python",
   "nbconvert_exporter": "python",
   "pygments_lexer": "ipython3",
   "version": "3.7.3"
  }
 },
 "nbformat": 4,
 "nbformat_minor": 2
}
